{
 "cells": [
  {
   "cell_type": "code",
   "execution_count": 21,
   "id": "f40835e8-8f63-4542-85cf-2d722723fc0e",
   "metadata": {
    "tags": []
   },
   "outputs": [
    {
     "name": "stdout",
     "output_type": "stream",
     "text": [
      "Found 10405 images belonging to 2602 classes.\n",
      "Found 1713 images belonging to 2602 classes.\n"
     ]
    }
   ],
   "source": [
    "import tensorflow as tf\n",
    "from tensorflow.keras.preprocessing.image import ImageDataGenerator\n",
    "from sklearn.metrics import accuracy_score, f1_score, precision_score, recall_score\n",
    "import numpy as np\n",
    "\n",
    "# Veri seti yolu\n",
    "data_path = 'denemeler/'\n",
    "\n",
    "# Veri setini yükleme ve ön işleme\n",
    "train_datagen = ImageDataGenerator(\n",
    "    rescale=1./255,\n",
    "    validation_split=0.2\n",
    ")\n",
    "\n",
    "train_generator = train_datagen.flow_from_directory(\n",
    "    data_path,\n",
    "    target_size=(250, 250),\n",
    "    batch_size=32,\n",
    "    class_mode='categorical',\n",
    "    subset='training'\n",
    ")\n",
    "\n",
    "validation_generator = train_datagen.flow_from_directory(\n",
    "    data_path,\n",
    "    target_size=(250, 250),\n",
    "    batch_size=32,\n",
    "    class_mode='categorical',\n",
    "    subset='validation'\n",
    ")\n",
    "\n",
    "# DenseNet121 modelini oluşturma\n",
    "base_model = tf.keras.applications.DenseNet121(input_shape=(250, 250, 3),\n",
    "                                               include_top=False,\n",
    "                                               weights='imagenet')\n",
    "\n",
    "model = tf.keras.Sequential([\n",
    "    base_model,\n",
    "    tf.keras.layers.GlobalAveragePooling2D(),\n",
    "    tf.keras.layers.Dense(128, activation='relu'),\n",
    "    tf.keras.layers.Dropout(0.5),\n",
    "    tf.keras.layers.Dense(train_generator.num_classes, activation='softmax')\n",
    "])\n",
    "\n",
    "# Modeli derleme\n",
    "model.compile(optimizer='adam',\n",
    "              loss='categorical_crossentropy',\n",
    "              metrics=['accuracy'])"
   ]
  },
  {
   "cell_type": "code",
   "execution_count": 22,
   "id": "d41dedbe-d452-4081-bddc-d2e14b4b3f68",
   "metadata": {
    "tags": []
   },
   "outputs": [
    {
     "name": "stdout",
     "output_type": "stream",
     "text": [
      "Epoch 1/5\n",
      "325/325 [==============================] - 1393s 4s/step - loss: 4.2755 - accuracy: 0.5021 - val_loss: 15.6407 - val_accuracy: 0.7659\n",
      "Epoch 2/5\n",
      "325/325 [==============================] - 1293s 4s/step - loss: 4.1103 - accuracy: 0.5088 - val_loss: 2.1895 - val_accuracy: 0.7700\n",
      "Epoch 3/5\n",
      "325/325 [==============================] - 1330s 4s/step - loss: 4.0855 - accuracy: 0.5113 - val_loss: 1.8628 - val_accuracy: 0.7665\n",
      "Epoch 4/5\n",
      "325/325 [==============================] - 1337s 4s/step - loss: 4.0313 - accuracy: 0.5121 - val_loss: 1.6232 - val_accuracy: 0.7818\n",
      "Epoch 5/5\n",
      "325/325 [==============================] - 1313s 4s/step - loss: 4.0183 - accuracy: 0.5128 - val_loss: 3.7810 - val_accuracy: 0.7659\n",
      "326/326 [==============================] - 317s 967ms/step\n",
      "Eğitim Doğruluk: 0.5045651129264777\n",
      "F1 Mikro: 0.5045651129264777\n",
      "F1 Makro: 0.00025776796022812217\n",
      "Precision: 0.25458595318250915\n",
      "Recall: 0.5045651129264777\n"
     ]
    }
   ],
   "source": [
    "# Modeli eğitme\n",
    "history = model.fit(train_generator,\n",
    "                    steps_per_epoch=train_generator.samples // train_generator.batch_size,\n",
    "                    epochs=5,\n",
    "                    validation_data=validation_generator,\n",
    "                    validation_steps=validation_generator.samples // validation_generator.batch_size)\n",
    "\n",
    "# Eğitim verileri üzerinde tahmin yapma\n",
    "y_pred_train = model.predict(train_generator)\n",
    "y_pred_train = np.argmax(y_pred_train, axis=1)\n",
    "\n",
    "# Gerçek etiketleri alma\n",
    "y_true_train = train_generator.classes\n",
    "\n",
    "# Metrikleri hesapla\n",
    "train_accuracy = accuracy_score(y_true_train, y_pred_train)\n",
    "f1_micro = f1_score(y_true_train, y_pred_train, average='micro')\n",
    "f1_macro = f1_score(y_true_train, y_pred_train, average='macro')\n",
    "precision = precision_score(y_true_train, y_pred_train, average='weighted', zero_division=0)\n",
    "recall = recall_score(y_true_train, y_pred_train, average='weighted', zero_division=0)\n",
    "\n",
    "print(f'Eğitim Doğruluk: {train_accuracy}')\n",
    "print(f'F1 Mikro: {f1_micro}')\n",
    "print(f'F1 Makro: {f1_macro}')\n",
    "print(f'Precision: {precision}')\n",
    "print(f'Recall: {recall}')"
   ]
  },
  {
   "cell_type": "code",
   "execution_count": 23,
   "id": "19d43d86-f04d-47ad-914c-52e8b256c1a3",
   "metadata": {
    "tags": []
   },
   "outputs": [
    {
     "name": "stdout",
     "output_type": "stream",
     "text": [
      "F1 Score: 0.33841799333938133\n"
     ]
    }
   ],
   "source": [
    "fscore = 2 * (precision * recall) / (precision + recall)\n",
    "print(f'F1 Score: {fscore}')"
   ]
  },
  {
   "cell_type": "code",
   "execution_count": null,
   "id": "4405459d-b657-42f4-9cc8-e68e4e44009a",
   "metadata": {},
   "outputs": [],
   "source": []
  }
 ],
 "metadata": {
  "kernelspec": {
   "display_name": "Python 3 (ipykernel)",
   "language": "python",
   "name": "python3"
  },
  "language_info": {
   "codemirror_mode": {
    "name": "ipython",
    "version": 3
   },
   "file_extension": ".py",
   "mimetype": "text/x-python",
   "name": "python",
   "nbconvert_exporter": "python",
   "pygments_lexer": "ipython3",
   "version": "3.10.13"
  }
 },
 "nbformat": 4,
 "nbformat_minor": 5
}
