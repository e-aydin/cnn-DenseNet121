{
 "cells": [
  {
   "cell_type": "code",
   "execution_count": 16,
   "id": "85158655-df74-44e6-bc7c-22dd8abbd574",
   "metadata": {
    "tags": []
   },
   "outputs": [],
   "source": [
    "from nearpy import Engine\n",
    "from nearpy.hashes import RandomBinaryProjections\n",
    "import numpy as np\n",
    "import os\n",
    "import cv2\n",
    "from sklearn.model_selection import train_test_split\n",
    "import tensorflow as tf\n",
    "from sklearn.metrics import accuracy_score, confusion_matrix, f1_score, precision_score, recall_score\n",
    "import seaborn as sns\n",
    "import matplotlib.pyplot as plt"
   ]
  },
  {
   "cell_type": "code",
   "execution_count": 17,
   "id": "9f45de97-413e-424b-a664-be567df7c551",
   "metadata": {
    "tags": []
   },
   "outputs": [],
   "source": [
    "# Veri setinin bulunduğu klasörü belirtin\n",
    "data_dir = 'lfw-deepfunneled/'\n",
    "\n",
    "# Görüntüleri ve etiketleri depolamak için boş listeler oluşturun\n",
    "images = []\n",
    "labels = []\n"
   ]
  },
  {
   "cell_type": "code",
   "execution_count": 18,
   "id": "6504dbee-9d40-476d-8ea5-8331c8a9ca78",
   "metadata": {
    "tags": []
   },
   "outputs": [],
   "source": [
    "# Tüm klasörleri döngüye alarak görüntüleri yükleyin ve etiketleri oluşturun\n",
    "for person_name in os.listdir(data_dir):\n",
    "    person_dir = os.path.join(data_dir, person_name)\n",
    "    if os.path.isdir(person_dir):\n",
    "        for image_name in os.listdir(person_dir):\n",
    "            image_path = os.path.join(person_dir, image_name)\n",
    "            image = cv2.imread(image_path)\n",
    "            image = cv2.cvtColor(image, cv2.COLOR_BGR2RGB)\n",
    "            images.append(image)\n",
    "            labels.append(person_name)"
   ]
  },
  {
   "cell_type": "code",
   "execution_count": 19,
   "id": "05c00c1a-70b6-4076-a509-48a0b4a9474a",
   "metadata": {
    "tags": []
   },
   "outputs": [],
   "source": [
    "class_names = np.unique(labels)\n",
    "class_indices = {class_name: i for i, class_name in enumerate(class_names)}\n"
   ]
  },
  {
   "cell_type": "code",
   "execution_count": 20,
   "id": "02e56028-a334-4107-bb44-6367f431b337",
   "metadata": {
    "tags": []
   },
   "outputs": [],
   "source": [
    "# Etiketleri sayısal forma dönüştürme\n",
    "labels = [class_indices[label] for label in labels]"
   ]
  },
  {
   "cell_type": "code",
   "execution_count": 21,
   "id": "d4d8f80e-46df-492b-9f26-51699062adf1",
   "metadata": {
    "tags": []
   },
   "outputs": [],
   "source": [
    "X_train, X_val, y_train, y_val = train_test_split(images, labels, test_size=0.2, random_state=42)\n",
    "\n",
    "X_train = np.array(X_train)\n",
    "y_train = np.array(y_train)\n",
    "X_val = np.array(X_val)\n",
    "y_val = np.array(y_val)"
   ]
  },
  {
   "cell_type": "code",
   "execution_count": 22,
   "id": "22a1c7ba-029f-48c3-930c-8f54242dacd3",
   "metadata": {
    "tags": []
   },
   "outputs": [
    {
     "name": "stdout",
     "output_type": "stream",
     "text": [
      "Model: \"sequential_1\"\n",
      "_________________________________________________________________\n",
      " Layer (type)                Output Shape              Param #   \n",
      "=================================================================\n",
      " conv2d_3 (Conv2D)           (None, 248, 248, 32)      896       \n",
      "                                                                 \n",
      " max_pooling2d_3 (MaxPooling  (None, 124, 124, 32)     0         \n",
      " 2D)                                                             \n",
      "                                                                 \n",
      " conv2d_4 (Conv2D)           (None, 122, 122, 64)      18496     \n",
      "                                                                 \n",
      " max_pooling2d_4 (MaxPooling  (None, 61, 61, 64)       0         \n",
      " 2D)                                                             \n",
      "                                                                 \n",
      " conv2d_5 (Conv2D)           (None, 59, 59, 128)       73856     \n",
      "                                                                 \n",
      " max_pooling2d_5 (MaxPooling  (None, 29, 29, 128)      0         \n",
      " 2D)                                                             \n",
      "                                                                 \n",
      " flatten_1 (Flatten)         (None, 107648)            0         \n",
      "                                                                 \n",
      " dense_2 (Dense)             (None, 512)               55116288  \n",
      "                                                                 \n",
      " dense_3 (Dense)             (None, 5749)              2949237   \n",
      "                                                                 \n",
      "=================================================================\n",
      "Total params: 58,158,773\n",
      "Trainable params: 58,158,773\n",
      "Non-trainable params: 0\n",
      "_________________________________________________________________\n"
     ]
    }
   ],
   "source": [
    "model = tf.keras.Sequential([\n",
    "    tf.keras.layers.Conv2D(32, (3,3), activation='relu', input_shape=(250, 250, 3)),\n",
    "    tf.keras.layers.MaxPooling2D(2,2),\n",
    "    tf.keras.layers.Conv2D(64, (3,3), activation='relu'),\n",
    "    tf.keras.layers.MaxPooling2D(2,2),\n",
    "    tf.keras.layers.Conv2D(128, (3,3), activation='relu'),\n",
    "    tf.keras.layers.MaxPooling2D(2,2),\n",
    "    tf.keras.layers.Flatten(),\n",
    "    tf.keras.layers.Dense(512, activation='relu'),\n",
    "    tf.keras.layers.Dense(5749, activation='softmax')\n",
    "])\n",
    "\n",
    "model.compile(optimizer='adam',\n",
    "              loss='sparse_categorical_crossentropy',\n",
    "              metrics=['accuracy'])\n",
    "\n",
    "model.summary()"
   ]
  },
  {
   "cell_type": "code",
   "execution_count": 23,
   "id": "734c5000-fca3-45ba-aa2d-d09c4f549262",
   "metadata": {
    "tags": []
   },
   "outputs": [
    {
     "name": "stdout",
     "output_type": "stream",
     "text": [
      "Epoch 1/10\n",
      "331/331 [==============================] - 17s 50ms/step - loss: 8.8277 - accuracy: 0.0331 - val_loss: 8.1572 - val_accuracy: 0.0427\n",
      "Epoch 2/10\n",
      "331/331 [==============================] - 25s 75ms/step - loss: 7.8726 - accuracy: 0.0400 - val_loss: 8.4511 - val_accuracy: 0.0442\n",
      "Epoch 3/10\n",
      "331/331 [==============================] - 26s 79ms/step - loss: 7.5031 - accuracy: 0.0439 - val_loss: 8.8204 - val_accuracy: 0.0468\n",
      "Epoch 4/10\n",
      "331/331 [==============================] - 26s 78ms/step - loss: 6.6823 - accuracy: 0.0488 - val_loss: 9.3245 - val_accuracy: 0.0412\n",
      "Epoch 5/10\n",
      "331/331 [==============================] - 31s 94ms/step - loss: 4.7840 - accuracy: 0.1678 - val_loss: 12.4268 - val_accuracy: 0.0268\n",
      "Epoch 6/10\n",
      "331/331 [==============================] - 31s 94ms/step - loss: 2.1047 - accuracy: 0.5691 - val_loss: 18.9380 - val_accuracy: 0.0185\n",
      "Epoch 7/10\n",
      "331/331 [==============================] - 32s 98ms/step - loss: 0.6775 - accuracy: 0.8503 - val_loss: 23.7580 - val_accuracy: 0.0189\n",
      "Epoch 8/10\n",
      "331/331 [==============================] - 32s 96ms/step - loss: 0.2485 - accuracy: 0.9478 - val_loss: 28.6707 - val_accuracy: 0.0181\n",
      "Epoch 9/10\n",
      "331/331 [==============================] - 32s 97ms/step - loss: 0.1836 - accuracy: 0.9632 - val_loss: 28.4419 - val_accuracy: 0.0181\n",
      "Epoch 10/10\n",
      "331/331 [==============================] - 32s 97ms/step - loss: 0.1269 - accuracy: 0.9734 - val_loss: 29.2184 - val_accuracy: 0.0215\n"
     ]
    },
    {
     "data": {
      "text/plain": [
       "<keras.callbacks.History at 0x23ab352ba90>"
      ]
     },
     "execution_count": 23,
     "metadata": {},
     "output_type": "execute_result"
    }
   ],
   "source": [
    "model.fit(X_train, y_train, epochs=10, validation_data=(X_val, y_val))"
   ]
  },
  {
   "cell_type": "code",
   "execution_count": 26,
   "id": "959de192-1214-4d4e-b142-d7245a24e78f",
   "metadata": {
    "tags": []
   },
   "outputs": [
    {
     "name": "stdout",
     "output_type": "stream",
     "text": [
      "331/331 [==============================] - 27s 83ms/step\n"
     ]
    }
   ],
   "source": [
    "from sklearn.metrics import f1_score\n",
    "\n",
    "# Tahminleri al\n",
    "y_pred_train = model.predict(X_train)\n",
    "y_pred_train = np.argmax(y_pred_train, axis=1)\n",
    "\n",
    "# Metrikleri hesapla\n",
    "train_accuracy = accuracy_score(y_train, y_pred_train)\n",
    "f1_micro = f1_score(y_train, y_pred_train, average='micro')\n",
    "f1_macro = f1_score(y_train, y_pred_train, average='macro')\n",
    "precision = precision_score(y_train, y_pred_train, average='weighted', zero_division=0)\n",
    "recall = recall_score(y_train, y_pred_train, average='weighted', zero_division=0)"
   ]
  },
  {
   "cell_type": "code",
   "execution_count": 27,
   "id": "30ac0a13-48d9-451b-8123-5b1aa992ea58",
   "metadata": {
    "tags": []
   },
   "outputs": [
    {
     "name": "stdout",
     "output_type": "stream",
     "text": [
      "Eğitim Doğruluk: 0.9829964103532968\n",
      "F1 Mikro: 0.9829964103532968\n",
      "F1 Makro: 0.9834884952995897\n",
      "Precision: 0.9832492279288791\n",
      "Recall: 0.9829964103532968\n"
     ]
    }
   ],
   "source": [
    "print(f'Eğitim Doğruluk: {train_accuracy}')\n",
    "print(f'F1 Mikro: {f1_micro}')\n",
    "print(f'F1 Makro: {f1_macro}')\n",
    "print(f'Precision: {precision}')\n",
    "print(f'Recall: {recall}')"
   ]
  },
  {
   "cell_type": "code",
   "execution_count": 31,
   "id": "3f212596-377a-4192-b3f5-36405e358985",
   "metadata": {
    "tags": []
   },
   "outputs": [
    {
     "name": "stdout",
     "output_type": "stream",
     "text": [
      "F1 Score: 0.9831228028875932\n"
     ]
    }
   ],
   "source": [
    "fscore = 2 * (precision * recall) / (precision + recall)\n",
    "print(f'F1 Score: {fscore}')"
   ]
  },
  {
   "cell_type": "code",
   "execution_count": 15,
   "id": "2e50e398-0177-4261-a978-73cb9d947297",
   "metadata": {
    "tags": []
   },
   "outputs": [],
   "source": [
    "#Bu model, evrişimli sinir ağı (CNN) kullanılarak bir görüntü sınıflandırma modelidir. Modelin katmanları şu şekilde oluşturuldu:\n",
    "\n",
    "#1. **Conv2D Katmanları:** Giriş olarak 250x250 piksel boyutlarındaki renkli (RGB) görüntüler kullanılmıştır. İlk Conv2D katmanı, 32 filtre ile 3x3 boyutunda evrişim gerçekleştirir. Ardından, 2x2 boyutunda maksimum havuzlama (MaxPooling) katmanı ile boyutu küçültülür.\n",
    "\n",
    "#2. **İkinci Conv2D Katmanları:** Ardından bir ikinci Conv2D katmanı gelir, bu sefer 64 filtre ile çalışır ve yine 3x3 boyutunda evrişim yapar. Ardından tekrar bir 2x2 MaxPooling katmanı kullanılır.\n",
    "\n",
    "#3. **Üçüncü Conv2D Katmanları:** Bir üçüncü Conv2D katmanı eklenir, bu sefer 128 filtre ile çalışır ve yine 3x3 boyutunda evrişim yapar. Ardından bir kez daha 2x2 boyutunda MaxPooling katmanı gelir.\n",
    "\n",
    "#4. **Flatten Katmanı:** Evrişim katmanlarından sonra, Flatten katmanı kullanılarak düzleştirme işlemi yapılır. Bu, evrişim katmanlarının çıktılarını düzleştirerek tek bir vektör haline getirir.\n",
    "\n",
    "#5. **Dense (Tam Bağlı) Katmanlar:** Ardından, iki tam bağlı (dense) katman gelir. İlk tam bağlı katman 512 nörona sahiptir ve aktivasyon fonksiyonu olarak ReLU kullanır. İkinci tam bağlı katman, sınıf sayısı olan 5749 nörona sahiptir ve softmax aktivasyon fonksiyonu kullanır. Bu, modelin birden çok sınıfı sınıflandırabilmesini sağlar.\n",
    "\n",
    "#Modelin çıktı katmanındaki nöron sayısı, sınıf sayısına eşittir ve softmax aktivasyon fonksiyonu kullanılarak her bir sınıfa ait olasılık değerleri elde edilir. Bu, çoklu sınıf sınıflandırma problemleri için yaygın bir yapıdır.\n",
    "\n",
    "#Modelin derlenmesi (compile) sırasında \"adam\" optimizasyon algoritması ve \"sparse_categorical_crossentropy\" kayıp fonksiyonu kullanılmıştır. Modelin başarı ölçümü olarak \"accuracy\" (doğruluk) kullanılmıştır.\n"
   ]
  },
  {
   "cell_type": "code",
   "execution_count": null,
   "id": "334d50ac-1124-4901-897a-8674cdead422",
   "metadata": {},
   "outputs": [],
   "source": []
  }
 ],
 "metadata": {
  "kernelspec": {
   "display_name": "Python 3 (ipykernel)",
   "language": "python",
   "name": "python3"
  },
  "language_info": {
   "codemirror_mode": {
    "name": "ipython",
    "version": 3
   },
   "file_extension": ".py",
   "mimetype": "text/x-python",
   "name": "python",
   "nbconvert_exporter": "python",
   "pygments_lexer": "ipython3",
   "version": "3.10.13"
  }
 },
 "nbformat": 4,
 "nbformat_minor": 5
}
